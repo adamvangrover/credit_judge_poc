{
 "cells": [
  {
   "cell_type": "markdown",
   "metadata": {},
   "source": [
    "# 1. Data Preparation and Exploration\n",
    "\n",
    "This notebook is for exploring, preparing, and preprocessing the input data for the Credit Judge PoC. We will load the mock AI-generated report and the \"gold standard\" human review to understand their structure."
   ]
  },
  {
   "cell_type": "code",
   "execution_count": null,
   "metadata": {},
   "outputs": [],
   "source": [
    "import json\n",
    "import os\n",
    "import sys\n",
    "\n",
    "# Add the project's 'src' directory to the Python path\n",
    "# This allows us to import our custom modules\n",
    "module_path = os.path.abspath(os.path.join('..'))\n",
    "if module_path not in sys.path:\n",
    "    sys.path.append(module_path)\n",
    "\n",
    "from src.processing.report_parser import load_ai_report_from_json\n",
    "from src.processing.review_formatter import format_ai_output_for_review\n",
    "from evaluation_poc.evaluate_judge_outputs import load_json_file"
   ]
  },
  {
   "cell_type": "markdown",
   "metadata": {},
   "source": [
    "## 2.1. Load the AI-Generated Report\n",
    "\n",
    "First, we'll load the mock AI-generated credit report for DraftKings (DKNG)."
   ]
  },
  {
   "cell_type": "code",
   "execution_count": null,
   "metadata": {},
   "outputs": [],
   "source": [
    "ai_report_path = os.path.join('..', 'data', 'reports_to_be_judged', 'dkng_ai_report.json')\n",
    "\n",
    "# We can use our utility function from the src module\n",
    "ai_report_data = load_ai_report_from_json(ai_report_path)\n",
    "\n",
    "print(f\"Successfully loaded AI report from: {ai_report_path}\")\n",
    "print(\"\\n--- Report Title ---\")\n",
    "print(ai_report_data.get('reportTitle'))\n",
    "print(\"\\n--- Inferred Corporate Credit Rating ---\")\n",
    "print(json.dumps(ai_report_data.get('corporateCreditRating'), indent=2))"
   ]
  },
  {
   "cell_type": "markdown",
   "metadata": {},
   "source": [
    "## 2.2. Load the Gold Standard Review\n",
    "\n",
    "Next, let's load the corresponding \"gold standard\" review table, which was created by a human expert."
   ]
  },
  {
   "cell_type": "code",
   "execution_count": null,
   "metadata": {},
   "outputs": [],
   "source": [
    "gold_standard_path = os.path.join('..', 'data', 'gold_standard_reviews', 'dkng_review_table.json')\n",
    "\n",
    "# The evaluation script also has a generic JSON loader we can use\n",
    "gold_standard_data = load_json_file(gold_standard_path)\n",
    "\n",
    "print(f\"Successfully loaded gold standard review from: {gold_standard_path}\")\n",
    "print(\"\\n--- Reviewer's Overall Assessment ---\")\n",
    "print(json.dumps(gold_standard_data.get('overallAssessment'), indent=2))"
   ]
  },
  {
   "cell_type": "markdown",
   "metadata": {},
   "source": [
    "## 3. Process and Format the Data\n",
    "\n",
    "This section demonstrates how the `review_formatter` module can be used to extract and summarize key information from the raw AI report. This formatted output is useful for quick summaries or as an input to other processes."
   ]
  },
  {
   "cell_type": "code",
   "execution_count": null,
   "metadata": {},
   "outputs": [],
   "source": [
    "formatted_summary = format_ai_output_for_review(ai_report_data)\n",
    "\n",
    "print(\"--- Formatted Summary from AI Report ---\")\n",
    "print(f\"Company: {formatted_summary.get('companyName')}\")\n",
    "print(f\"Inferred Rating: {formatted_summary.get('inferredRating')} {formatted_summary.get('outlook')}\")\n",
    "print(\"\\nKey Strengths:\")\n",
    "for strength in formatted_summary.get('keyStrengthsSummary', []):\n",
    "    print(f\"- {strength}\")\n",
    "\n",
    "print(\"Key Weaknesses:\")\n",
    "for weakness in formatted_summary.get('keyWeaknessesSummary', []):\n",
    "    print(f\"- {weakness}\")"
   ]
  },
  {
   "cell_type": "markdown",
   "metadata": {},
   "source": [
    "This notebook now provides a basic workflow for loading and understanding the project's data structures and core processing functions."
   ]
  }
 ],
 "metadata": {
  "kernelspec": {
   "display_name": "Python 3",
   "language": "python",
   "name": "python3"
  },
  "language_info": {
   "codemirror_mode": {
    "name": "ipython",
    "version": 3
   },
   "file_extension": ".py",
   "mimetype": "text/x-python",
   "name": "python",
   "nbconvert_exporter": "python",
   "pygments_lexer": "ipython3",
   "version": "3.9.7"
  }
 },
 "nbformat": 4,
 "nbformat_minor": 4
}
