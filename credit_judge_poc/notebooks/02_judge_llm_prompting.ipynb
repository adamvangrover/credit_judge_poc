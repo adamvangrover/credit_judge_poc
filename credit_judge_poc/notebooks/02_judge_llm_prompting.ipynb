
{
 "cells": [
  {
   "cell_type": "markdown",
   "metadata": {},
   "source": [
    "# 02 - Judge LLM Prompting: Corporate Credit Rating Report\n",
    "\n",
    "This notebook demonstrates how to develop, test, and iterate on prompts for the Credit Judge LLM, specifically focusing on generating a Corporate Credit Rating Report using a detailed template."
   ]
  },
  {
   "cell_type": "markdown",
   "metadata": {},
   "source": [
    "## 1. Import Prompt Template and Necessary Libraries"
   ]
  },
  {
   "cell_type": "code",
   "execution_count": null,
   "metadata": {},
   "outputs": [],
   "source": [
    "import datetime\n",
    "import json # For potential JSON parsing of outputs\n",
    "# Assuming the notebook is run from the root of the 'credit_judge_poc' directory or the path is adjusted accordingly\n",
    "from credit_judge_poc.src.prompts.judge_prompts import CORPORATE_CREDIT_RATING_REPORT_TEMPLATE\n",
    "\n",
    "# Placeholder for LLM SDK - replace with actual SDK if used\n",
    "# import google.generativeai as genai # Example for Gemini API"
   ]
  },
  {
   "cell_type": "markdown",
   "metadata": {},
   "source": [
    "## 2. Define Input Variables for the Prompt\n",
    "\n",
    "These variables will be used to populate the prompt template. They include company details, optional financial overrides, special focus areas, and an optional human-written example report for comparison."
   ]
  },
  {
   "cell_type": "code",
   "execution_count": null,
   "metadata": {},
   "outputs": [],
   "source": [
    "# --- User Inputs for the Report ---\n",
    "COMPANY_NAME = \"DraftKings Inc.\"\n",
    "TICKER_SYMBOL = \"DKNG\"\n",
    "STOCK_EXCHANGE = \"NASDAQ\" # Optional\n",
    "CURRENT_DATE = datetime.date.today().strftime(\"%Y-%m-%d\")\n",
    "\n",
    "# Optional: Override specific financial data\n",
    "# If None or \"N/A\", AI will use search. For N/A within overrides, AI will also use search for that specific item.\n",
    "SPECIFIC_FINANCIAL_PERIOD_OVERRIDE = \"Q1 2025\"\n",
    "SPECIFIC_REVENUE_OVERRIDE = \"$1,409 million (20% increase year-over-year)\"\n",
    "SPECIFIC_ADJ_EBITDA_OVERRIDE = \"$102.630 million\"\n",
    "SPECIFIC_NET_INCOME_OVERRIDE = \"N/A\" # Example: AI should search for this\n",
    "SPECIFIC_FCF_OVERRIDE = \"N/A\" # Example: AI should search for this\n",
    "SPECIFIC_OTHER_DATA_OVERRIDE = \"N/A\"\n",
    "\n",
    "SPECIAL_FOCUS_AREAS = \"Focus on the impact of the Jackpocket acquisition and path to sustained profitability.\" # Optional\n",
    "\n",
    "# Optional: Human example report for comparison\n",
    "HUMAN_EXAMPLE_REPORT_TEXT = \"\"\"\n",
    "I. Overview\n",
    "DraftKings Inc. operates in the dynamic and rapidly evolving digital sports entertainment and gaming industry. The company has demonstrated significant revenue and customer growth, but also faces challenges related to profitability and regulatory uncertainties. This report assesses DraftKings' creditworthiness, considering both quantitative and qualitative factors.\n",
    "\n",
    "II. Corporate Credit Rating\n",
    " * S&P Scale: BB-\n",
    " * Outlook: Stable\n",
    "Justification and Rationale:\n",
    " * The BB- rating reflects DraftKings' high growth and expanding market share, balanced against its current profitability profile and the inherent risks of the gaming industry.\n",
    " * DraftKings has successfully increased its revenue and customer base, indicating a strong competitive position.\n",
    " * However, the company's path to sustained profitability is still developing, and the industry is subject to regulatory changes and intense competition.\n",
    "Outlook:\n",
    " * The stable outlook indicates that DraftKings' credit rating is not expected to change significantly in the near term.\n",
    " * Continued revenue growth and progress towards profitability could lead to an upgrade, while failure to achieve these could result in a downgrade.\n",
    "III. Financial Performance\n",
    " * Revenue:\n",
    "   * First quarter 2025 revenue: $1,409 million (20% increase year-over-year)\n",
    "   * Revenue growth is driven by customer engagement, new customer acquisition, increased Sportsbook hold, and the acquisition of Jackpocket.\n",
    " * EBITDA:\n",
    "   * Adjusted EBITDA (first quarter 2025): $102.630 million\n",
    "   * EBITDA is improving, but the company is still working towards consistent profitability.\n",
    " * Free Cash Flow:\n",
    "   * Free cash flow is currently negative, as the company is investing heavily in growth and expansion.\n",
    "   * This is a key metric to monitor for improvement as the company matures.\n",
    " * Leverage:\n",
    "   * The company's leverage is moderate, with a mix of debt and equity financing.\n",
    "   * Debt levels are manageable but require monitoring in the context of ongoing investments and profitability.\n",
    "IV. Shared National Credit (SNC) Regulatory Rating\n",
    " * SNC Rating: Special Mention\n",
    " * Justification and Rationale:\n",
    "   * The Special Mention rating reflects potential weaknesses that may, if not corrected, affect the borrower's repayment capacity.\n",
    "   * While DraftKings exhibits strong growth potential, concerns about sustained profitability and cash flow warrant this classification.\n",
    " * Triggers:\n",
    "   * Triggers for a downgrade to a worse rating could include:\n",
    "     * Failure to achieve projected revenue growth\n",
    "     * Continued delays in achieving profitability\n",
    "     * Increased regulatory restrictions\n",
    "     * Significant increase in leverage\n",
    "   * Triggers for an upgrade could include:\n",
    "     * Consistent achievement of profitability and positive free cash flow\n",
    "     * Successful expansion into new markets\n",
    "     * Demonstrated ability to navigate regulatory challenges\n",
    " * Strengths:\n",
    "   * Strong brand recognition and market position\n",
    "   * High revenue growth and customer acquisition rates\n",
    "   * Expanding market access through new state legalization\n",
    "   * Technological innovation and product diversification\n",
    " * Weaknesses:\n",
    "   * Lack of consistent profitability\n",
    "   * Negative free cash flow\n",
    "   * Regulatory uncertainties and compliance costs\n",
    "   * Intense competition in the industry\n",
    "\"\"\" # Set to \"N/A\" or \"\" if no human example"
   ]
  },
  {
   "cell_type": "markdown",
   "metadata": {},
   "source": [
    "## 3. Assemble the Prompt"
   ]
  },
  {
   "cell_type": "code",
   "execution_count": null,
   "metadata": {},
   "outputs": [],
   "source": [
    "final_prompt = CORPORATE_CREDIT_RATING_REPORT_TEMPLATE.format(\n",
    "    company_name=COMPANY_NAME,\n",
    "    ticker_symbol=TICKER_SYMBOL,\n",
    "    stock_exchange=STOCK_EXCHANGE if STOCK_EXCHANGE else \"N/A\",\n",
    "    current_date=CURRENT_DATE,\n",
    "    specific_financial_period_override=SPECIFIC_FINANCIAL_PERIOD_OVERRIDE if SPECIFIC_FINANCIAL_PERIOD_OVERRIDE else \"N/A\",\n",
    "    specific_revenue_override=SPECIFIC_REVENUE_OVERRIDE if SPECIFIC_REVENUE_OVERRIDE else \"N/A\",\n",
    "    specific_adj_ebitda_override=SPECIFIC_ADJ_EBITDA_OVERRIDE if SPECIFIC_ADJ_EBITDA_OVERRIDE else \"N/A\",\n",
    "    specific_net_income_override=SPECIFIC_NET_INCOME_OVERRIDE if SPECIFIC_NET_INCOME_OVERRIDE else \"N/A\",\n",
    "    specific_fcf_override=SPECIFIC_FCF_OVERRIDE if SPECIFIC_FCF_OVERRIDE else \"N/A\",\n",
    "    specific_other_data_override=SPECIFIC_OTHER_DATA_OVERRIDE if SPECIFIC_OTHER_DATA_OVERRIDE else \"N/A\",\n",
    "    special_focus_areas=SPECIAL_FOCUS_AREAS if SPECIAL_FOCUS_AREAS else \"N/A\",\n",
    "    human_example_report_text=HUMAN_EXAMPLE_REPORT_TEXT if HUMAN_EXAMPLE_REPORT_TEXT and HUMAN_EXAMPLE_REPORT_TEXT.strip() else \"N/A\"\n",
    ")\n",
    "\n",
    "print(\"--- COMPILED PROMPT FOR LLM ---\")\n",
    "print(final_prompt)\n",
    "print(\"--- END OF PROMPT ---\")"
   ]
  },
  {
   "cell_type": "markdown",
   "metadata": {},
   "source": [
    "## 4. (Conceptual) Send Prompt to LLM and Get Response\n",
    "\n",
    "The following cell is a placeholder to illustrate where you would typically integrate with an LLM API (e.g., OpenAI, Anthropic, Google Gemini)."
   ]
  },
  {
   "cell_type": "code",
   "execution_count": null,
   "metadata": {},
   "outputs": [],
   "source": [
    "# Conceptual: Send to LLM API\n",
    "# \n",
    "# # Example using Google Gemini API (replace with your actual API key and setup)\n",
    "# try:\n",
    "#     genai.configure(api_key=\"YOUR_API_KEY\") \n",
    "#     model = genai.GenerativeModel(model_name=\"gemini-1.5-flash-latest\") # Or your preferred model\n",
    "# \n",
    "#     # Safety settings and generation config might be needed for optimal output\n",
    "#     safety_settings = [\n",
    "#         {\"category\": \"HARM_CATEGORY_HARASSMENT\", \"threshold\": \"BLOCK_NONE\"},\n",
    "#         {\"category\": \"HARM_CATEGORY_HATE_SPEECH\", \"threshold\": \"BLOCK_NONE\"},\n",
    "#         {\"category\": \"HARM_CATEGORY_SEXUALLY_EXPLICIT\", \"threshold\": \"BLOCK_NONE\"},\n",
    "#         {\"category\": \"HARM_CATEGORY_DANGEROUS_CONTENT\", \"threshold\": \"BLOCK_NONE\"},\n",
    "#     ]\n",
    "#     generation_config = {\n",
    "#         \"temperature\": 0.7, # Adjust for creativity/factuality\n",
    "#         \"top_p\": 1,\n",
    "#         \"top_k\": 1,\n",
    "#         \"max_output_tokens\": 8192, # Or as needed for long reports\n",
    "#     }\n",
    "# \n",
    "#     response = model.generate_content(\n",
    "#         final_prompt,\n",
    "#         generation_config=generation_config,\n",
    "#         safety_settings=safety_settings\n",
    "#     )\n",
    "#     print(\"\\n--- LLM RESPONSE ---\")\n",
    "#     print(response.text)\n",
    "#     llm_generated_report = response.text # Store for further processing\n",
    "# except Exception as e:\n",
    "#     print(f\"\\nAn error occurred: {e}\")\n",
    "#     llm_generated_report = None\n",
    "\n",
    "llm_generated_report = \"This is a placeholder for the LLM's generated report. Replace with actual LLM call.\"\n",
    "print(llm_generated_report)"
   ]
  },
  {
   "cell_type": "markdown",
   "metadata": {},
   "source": [
    "## 5. Advanced Logic: Pre-processing and Post-processing\n",
    "\n",
    "This section outlines where more sophisticated analytical logic can be embedded."
   ]
  },
  {
   "cell_type": "markdown",
   "metadata": {},
   "source": [
    "### 5.1 Pre-processing of Input Data\n",
    "\n",
    "Before populating the prompt, you might want to:\n",
    "- Fetch financial data from external APIs or databases.\n",
    "- Calculate key financial ratios (e.g., Debt/EBITDA, Current Ratio) to be included as context or specific overrides.\n",
    "- Perform data validation and cleaning."
   ]
  },
  {
   "cell_type": "code",
   "execution_count": null,
   "metadata": {},
   "outputs": [],
   "source": [
    "# Conceptual: Pre-processing logic\n",
    "# def fetch_financial_data(ticker_symbol):\n",
    "#     # Placeholder: Implement fetching logic (e.g., from Yahoo Finance, IEX Cloud, internal DB)\n",
    "#     print(f\"Fetching data for {ticker_symbol}...\")\n",
    "#     return {\"revenue_latest_q\": \"$1.5B\", \"ebitda_latest_q\": \"$150M\"}\n",
    "# \n",
    "# if SPECIFIC_REVENUE_OVERRIDE == \"N/A\":\n",
    "#     financials = fetch_financial_data(TICKER_SYMBOL)\n",
    "     # This is where you would update the SPECIFIC_... variables before formatting the prompt\n",
    "#     # For example: SPECIFIC_REVENUE_OVERRIDE = financials.get('revenue_latest_q')\n",
    "pass"
   ]
  },
  {
   "cell_type": "markdown",
   "metadata": {},
   "source": [
    "### 5.2 Post-processing of LLM Output\n",
    "\n",
    "After receiving the LLM's response:\n",
    "- Parse the generated report (e.g., if it's structured text, markdown, or if you ask for JSON output).\n",
    "- Extract key findings, scores, and justifications.\n",
    "- Compare the LLM's output against a 'gold standard' human review (see `01_data_preparation.ipynb` for ideas on gold standard structure).\n",
    "- Implement more advanced evaluation metrics (see `evaluation_poc/evaluate_judge_outputs.py`)."
   ]
  },
  {
   "cell_type": "code",
   "execution_count": null,
   "metadata": {},
   "outputs": [],
   "source": [
    "# Conceptual: Post-processing logic\n",
    "# def parse_llm_report(report_text):\n",
    "#     # Placeholder: Implement parsing logic based on expected report structure\n",
    "#     print(\"Parsing LLM report...\")\n",
    "#     # Example: extract inferred S&P rating\n",
    "#     # import re\n",
    "#     # match = re.search(r\"S&P Equivalent Scale: ([A-Za-z\\+\\-]+)\", report_text)\n",
    "#     # inferred_rating = match.group(1) if match else \"Not found\"\n",
    "#     # return {\"inferred_rating\": inferred_rating}\n",
    "#     return {\"parsed_data\": \"example data\"}\n",
    "# \n",
    "# if llm_generated_report:\n",
    "#     processed_output = parse_llm_report(llm_generated_report)\n",
    "#     print(f\"Processed output: {processed_output}\")\n",
    "pass"
   ]
  },
  {
   "cell_type": "markdown",
   "metadata": {},
   "source": [
    "### 5.3 Integrating Financial Ratio Calculations\n",
    "\n",
    "Demonstrate how financial ratios could be calculated and potentially used to inform the LLM or evaluate its output."
   ]
  },
  {
   "cell_type": "code",
   "execution_count": null,
   "metadata": {},
   "outputs": [],
   "source": [
    "# Conceptual: Financial ratio calculation\n",
    "# def calculate_debt_to_ebitda(total_debt, ebitda):\n",
    "#     if ebitda == 0: return float('inf') # Avoid division by zero\n",
    "#     return total_debt / ebitda\n",
    "# \n",
    "# # Example usage (assuming you've fetched/defined these values)\n",
    "# # total_company_debt = 2000 # in millions\n",
    "# # company_ebitda = 500 # in millions\n",
    "# # leverage_ratio = calculate_debt_to_ebitda(total_company_debt, company_ebitda)\n",
    "# # print(f\"Calculated Debt/EBITDA: {leverage_ratio}\")\n",
    "# \n",
    "# # This ratio could be part of the input to the LLM (e.g. in 'Other Data')\n",
    "# # or used in post-processing to verify LLM's financial understanding.\n",
    "pass"
   ]
  }
 ],
 "metadata": {
  "kernelspec": {
   "display_name": "Python 3",
   "language": "python",
   "name": "python3"
  },
  "language_info": {
   "codemirror_mode": {
    "name": "ipython",
    "version": 3
   },
   "file_extension": ".py",
   "mimetype": "text/x-python",
   "name": "python",
   "nbconvert_exporter": "python",
   "pygments_lexer": "ipython3",
   "version": "3.10.12"
  }
 },
 "nbformat": 4,
 "nbformat_minor": 2
}

#Jupyter notebook for developing, testing, and iterating on prompts for the Credit Judge LLM.