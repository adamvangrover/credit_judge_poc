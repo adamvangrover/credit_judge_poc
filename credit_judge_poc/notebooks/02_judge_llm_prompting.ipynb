Jupyter notebook for developing, testing, and iterating on prompts for the Credit Judge LLM.
